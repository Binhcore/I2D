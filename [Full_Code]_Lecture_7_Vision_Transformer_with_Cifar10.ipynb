{
  "nbformat": 4,
  "nbformat_minor": 0,
  "metadata": {
    "colab": {
      "name": "[Full Code] Lecture 7 - Vision Transformer with Cifar10",
      "provenance": [],
      "collapsed_sections": [],
      "include_colab_link": true
    },
    "kernelspec": {
      "name": "python3",
      "display_name": "Python 3"
    },
    "language_info": {
      "name": "python"
    },
    "accelerator": "GPU",
    "widgets": {
      "application/vnd.jupyter.widget-state+json": {
        "faf8032f5e1743eda87b3787e65b003b": {
          "model_module": "@jupyter-widgets/controls",
          "model_name": "HBoxModel",
          "model_module_version": "1.5.0",
          "state": {
            "_view_name": "HBoxView",
            "_dom_classes": [],
            "_model_name": "HBoxModel",
            "_view_module": "@jupyter-widgets/controls",
            "_model_module_version": "1.5.0",
            "_view_count": null,
            "_view_module_version": "1.5.0",
            "box_style": "",
            "layout": "IPY_MODEL_c224c07f099e45dd9344b11f5d10aa0d",
            "_model_module": "@jupyter-widgets/controls",
            "children": [
              "IPY_MODEL_be7fa20ef0af42c78c9d136d4bf65bba",
              "IPY_MODEL_86eecd7f9c6349bebe02e19ede3bdc89",
              "IPY_MODEL_140b0644a62f459c8a779b63f18ecdf9"
            ]
          }
        },
        "c224c07f099e45dd9344b11f5d10aa0d": {
          "model_module": "@jupyter-widgets/base",
          "model_name": "LayoutModel",
          "model_module_version": "1.2.0",
          "state": {
            "_view_name": "LayoutView",
            "grid_template_rows": null,
            "right": null,
            "justify_content": null,
            "_view_module": "@jupyter-widgets/base",
            "overflow": null,
            "_model_module_version": "1.2.0",
            "_view_count": null,
            "flex_flow": null,
            "width": null,
            "min_width": null,
            "border": null,
            "align_items": null,
            "bottom": null,
            "_model_module": "@jupyter-widgets/base",
            "top": null,
            "grid_column": null,
            "overflow_y": null,
            "overflow_x": null,
            "grid_auto_flow": null,
            "grid_area": null,
            "grid_template_columns": null,
            "flex": null,
            "_model_name": "LayoutModel",
            "justify_items": null,
            "grid_row": null,
            "max_height": null,
            "align_content": null,
            "visibility": null,
            "align_self": null,
            "height": null,
            "min_height": null,
            "padding": null,
            "grid_auto_rows": null,
            "grid_gap": null,
            "max_width": null,
            "order": null,
            "_view_module_version": "1.2.0",
            "grid_template_areas": null,
            "object_position": null,
            "object_fit": null,
            "grid_auto_columns": null,
            "margin": null,
            "display": null,
            "left": null
          }
        },
        "be7fa20ef0af42c78c9d136d4bf65bba": {
          "model_module": "@jupyter-widgets/controls",
          "model_name": "HTMLModel",
          "model_module_version": "1.5.0",
          "state": {
            "_view_name": "HTMLView",
            "style": "IPY_MODEL_bc3cb2f4900641eabadfc56aa453b731",
            "_dom_classes": [],
            "description": "",
            "_model_name": "HTMLModel",
            "placeholder": "​",
            "_view_module": "@jupyter-widgets/controls",
            "_model_module_version": "1.5.0",
            "value": " 31%",
            "_view_count": null,
            "_view_module_version": "1.5.0",
            "description_tooltip": null,
            "_model_module": "@jupyter-widgets/controls",
            "layout": "IPY_MODEL_0ef18b5662524b519651ea0a33a63bdc"
          }
        },
        "86eecd7f9c6349bebe02e19ede3bdc89": {
          "model_module": "@jupyter-widgets/controls",
          "model_name": "FloatProgressModel",
          "model_module_version": "1.5.0",
          "state": {
            "_view_name": "ProgressView",
            "style": "IPY_MODEL_78a6986519b546ddb2b98d5272f9f191",
            "_dom_classes": [],
            "description": "",
            "_model_name": "FloatProgressModel",
            "bar_style": "",
            "max": 200,
            "_view_module": "@jupyter-widgets/controls",
            "_model_module_version": "1.5.0",
            "value": 62,
            "_view_count": null,
            "_view_module_version": "1.5.0",
            "orientation": "horizontal",
            "min": 0,
            "description_tooltip": null,
            "_model_module": "@jupyter-widgets/controls",
            "layout": "IPY_MODEL_6986bec3121b47b4b0c455badb2f44e0"
          }
        },
        "140b0644a62f459c8a779b63f18ecdf9": {
          "model_module": "@jupyter-widgets/controls",
          "model_name": "HTMLModel",
          "model_module_version": "1.5.0",
          "state": {
            "_view_name": "HTMLView",
            "style": "IPY_MODEL_73e9f5cfdf734324b143670f7382b4ad",
            "_dom_classes": [],
            "description": "",
            "_model_name": "HTMLModel",
            "placeholder": "​",
            "_view_module": "@jupyter-widgets/controls",
            "_model_module_version": "1.5.0",
            "value": " 62/200 [2:54:19&lt;6:28:05, 168.74s/it]",
            "_view_count": null,
            "_view_module_version": "1.5.0",
            "description_tooltip": null,
            "_model_module": "@jupyter-widgets/controls",
            "layout": "IPY_MODEL_c776df075fb740fdb3bff0516a47f8e4"
          }
        },
        "bc3cb2f4900641eabadfc56aa453b731": {
          "model_module": "@jupyter-widgets/controls",
          "model_name": "DescriptionStyleModel",
          "model_module_version": "1.5.0",
          "state": {
            "_view_name": "StyleView",
            "_model_name": "DescriptionStyleModel",
            "description_width": "",
            "_view_module": "@jupyter-widgets/base",
            "_model_module_version": "1.5.0",
            "_view_count": null,
            "_view_module_version": "1.2.0",
            "_model_module": "@jupyter-widgets/controls"
          }
        },
        "0ef18b5662524b519651ea0a33a63bdc": {
          "model_module": "@jupyter-widgets/base",
          "model_name": "LayoutModel",
          "model_module_version": "1.2.0",
          "state": {
            "_view_name": "LayoutView",
            "grid_template_rows": null,
            "right": null,
            "justify_content": null,
            "_view_module": "@jupyter-widgets/base",
            "overflow": null,
            "_model_module_version": "1.2.0",
            "_view_count": null,
            "flex_flow": null,
            "width": null,
            "min_width": null,
            "border": null,
            "align_items": null,
            "bottom": null,
            "_model_module": "@jupyter-widgets/base",
            "top": null,
            "grid_column": null,
            "overflow_y": null,
            "overflow_x": null,
            "grid_auto_flow": null,
            "grid_area": null,
            "grid_template_columns": null,
            "flex": null,
            "_model_name": "LayoutModel",
            "justify_items": null,
            "grid_row": null,
            "max_height": null,
            "align_content": null,
            "visibility": null,
            "align_self": null,
            "height": null,
            "min_height": null,
            "padding": null,
            "grid_auto_rows": null,
            "grid_gap": null,
            "max_width": null,
            "order": null,
            "_view_module_version": "1.2.0",
            "grid_template_areas": null,
            "object_position": null,
            "object_fit": null,
            "grid_auto_columns": null,
            "margin": null,
            "display": null,
            "left": null
          }
        },
        "78a6986519b546ddb2b98d5272f9f191": {
          "model_module": "@jupyter-widgets/controls",
          "model_name": "ProgressStyleModel",
          "model_module_version": "1.5.0",
          "state": {
            "_view_name": "StyleView",
            "_model_name": "ProgressStyleModel",
            "description_width": "",
            "_view_module": "@jupyter-widgets/base",
            "_model_module_version": "1.5.0",
            "_view_count": null,
            "_view_module_version": "1.2.0",
            "bar_color": null,
            "_model_module": "@jupyter-widgets/controls"
          }
        },
        "6986bec3121b47b4b0c455badb2f44e0": {
          "model_module": "@jupyter-widgets/base",
          "model_name": "LayoutModel",
          "model_module_version": "1.2.0",
          "state": {
            "_view_name": "LayoutView",
            "grid_template_rows": null,
            "right": null,
            "justify_content": null,
            "_view_module": "@jupyter-widgets/base",
            "overflow": null,
            "_model_module_version": "1.2.0",
            "_view_count": null,
            "flex_flow": null,
            "width": null,
            "min_width": null,
            "border": null,
            "align_items": null,
            "bottom": null,
            "_model_module": "@jupyter-widgets/base",
            "top": null,
            "grid_column": null,
            "overflow_y": null,
            "overflow_x": null,
            "grid_auto_flow": null,
            "grid_area": null,
            "grid_template_columns": null,
            "flex": null,
            "_model_name": "LayoutModel",
            "justify_items": null,
            "grid_row": null,
            "max_height": null,
            "align_content": null,
            "visibility": null,
            "align_self": null,
            "height": null,
            "min_height": null,
            "padding": null,
            "grid_auto_rows": null,
            "grid_gap": null,
            "max_width": null,
            "order": null,
            "_view_module_version": "1.2.0",
            "grid_template_areas": null,
            "object_position": null,
            "object_fit": null,
            "grid_auto_columns": null,
            "margin": null,
            "display": null,
            "left": null
          }
        },
        "73e9f5cfdf734324b143670f7382b4ad": {
          "model_module": "@jupyter-widgets/controls",
          "model_name": "DescriptionStyleModel",
          "model_module_version": "1.5.0",
          "state": {
            "_view_name": "StyleView",
            "_model_name": "DescriptionStyleModel",
            "description_width": "",
            "_view_module": "@jupyter-widgets/base",
            "_model_module_version": "1.5.0",
            "_view_count": null,
            "_view_module_version": "1.2.0",
            "_model_module": "@jupyter-widgets/controls"
          }
        },
        "c776df075fb740fdb3bff0516a47f8e4": {
          "model_module": "@jupyter-widgets/base",
          "model_name": "LayoutModel",
          "model_module_version": "1.2.0",
          "state": {
            "_view_name": "LayoutView",
            "grid_template_rows": null,
            "right": null,
            "justify_content": null,
            "_view_module": "@jupyter-widgets/base",
            "overflow": null,
            "_model_module_version": "1.2.0",
            "_view_count": null,
            "flex_flow": null,
            "width": null,
            "min_width": null,
            "border": null,
            "align_items": null,
            "bottom": null,
            "_model_module": "@jupyter-widgets/base",
            "top": null,
            "grid_column": null,
            "overflow_y": null,
            "overflow_x": null,
            "grid_auto_flow": null,
            "grid_area": null,
            "grid_template_columns": null,
            "flex": null,
            "_model_name": "LayoutModel",
            "justify_items": null,
            "grid_row": null,
            "max_height": null,
            "align_content": null,
            "visibility": null,
            "align_self": null,
            "height": null,
            "min_height": null,
            "padding": null,
            "grid_auto_rows": null,
            "grid_gap": null,
            "max_width": null,
            "order": null,
            "_view_module_version": "1.2.0",
            "grid_template_areas": null,
            "object_position": null,
            "object_fit": null,
            "grid_auto_columns": null,
            "margin": null,
            "display": null,
            "left": null
          }
        }
      }
    }
  },
  "cells": [
    {
      "cell_type": "markdown",
      "metadata": {
        "id": "view-in-github",
        "colab_type": "text"
      },
      "source": [
        "<a href=\"https://colab.research.google.com/github/Binhcore/I2D/blob/main/%5BFull_Code%5D_Lecture_7_Vision_Transformer_with_Cifar10.ipynb\" target=\"_parent\"><img src=\"https://colab.research.google.com/assets/colab-badge.svg\" alt=\"Open In Colab\"/></a>"
      ]
    },
    {
      "cell_type": "markdown",
      "source": [
        "### Import Packages"
      ],
      "metadata": {
        "id": "du00kmx0JyOB"
      }
    },
    {
      "cell_type": "code",
      "execution_count": null,
      "metadata": {
        "id": "BQo9Hv7R9qOc",
        "colab": {
          "base_uri": "https://localhost:8080/"
        },
        "outputId": "817479e9-c694-4c49-803c-a6814438cebf"
      },
      "outputs": [
        {
          "output_type": "stream",
          "name": "stdout",
          "text": [
            "1.10.0+cu111\n"
          ]
        }
      ],
      "source": [
        "import os\n",
        "import csv\n",
        "import numpy as np\n",
        "from tqdm.notebook import tqdm\n",
        "\n",
        "import matplotlib.pyplot as plt\n",
        "\n",
        "import torch\n",
        "import torchvision\n",
        "import torch.nn as nn\n",
        "import torch.nn.functional as F\n",
        "import torch.optim as optim\n",
        "from torch.utils.data import Dataset, DataLoader\n",
        "\n",
        "print(torch.__version__)"
      ]
    },
    {
      "cell_type": "markdown",
      "source": [
        "### Import CIFAR data"
      ],
      "metadata": {
        "id": "jYGpYKAuJ4DW"
      }
    },
    {
      "cell_type": "code",
      "source": [
        "data_path = './cifar10'\n",
        "batch_size = 1024\n",
        "train_dataset = torchvision.datasets.CIFAR10(data_path, True, \n",
        "                                             transform= torchvision.transforms.ToTensor(), download=True)\n",
        "test_dataset = torchvision.datasets.CIFAR10(data_path, False, \n",
        "                                            transform= torchvision.transforms.ToTensor(), download=True)\n",
        "train_dataloader = DataLoader(train_dataset, batch_size=batch_size, shuffle=True)\n",
        "test_dataloader = DataLoader(test_dataset, batch_size=batch_size, shuffle=False)"
      ],
      "metadata": {
        "id": "Za72lRB4GiiC",
        "colab": {
          "base_uri": "https://localhost:8080/"
        },
        "outputId": "ebc4190e-2160-47af-acb6-16e5b1ba2caf"
      },
      "execution_count": null,
      "outputs": [
        {
          "output_type": "stream",
          "name": "stdout",
          "text": [
            "Files already downloaded and verified\n",
            "Files already downloaded and verified\n"
          ]
        }
      ]
    },
    {
      "cell_type": "markdown",
      "source": [
        "### Define the Device"
      ],
      "metadata": {
        "id": "ikuvmDKMKH3F"
      }
    },
    {
      "cell_type": "code",
      "source": [
        "# device = 'cpu'\n",
        "device = 'cuda'\n",
        "print('Current Device : {}'.format(device))"
      ],
      "metadata": {
        "id": "JJ1atsBXGj9r",
        "colab": {
          "base_uri": "https://localhost:8080/"
        },
        "outputId": "7a6e6a85-0c0b-40a0-cc2d-72721f6a8815"
      },
      "execution_count": null,
      "outputs": [
        {
          "output_type": "stream",
          "name": "stdout",
          "text": [
            "Current Device : cuda\n"
          ]
        }
      ]
    },
    {
      "cell_type": "markdown",
      "source": [
        "### Get sample"
      ],
      "metadata": {
        "id": "Jk4VPS2AKL9W"
      }
    },
    {
      "cell_type": "code",
      "source": [
        "sample = next(iter(train_dataloader))\n",
        "# sample = test_dataset[1]\n",
        "print(sample[0].shape)\n",
        "print(sample[1])"
      ],
      "metadata": {
        "id": "YCyp085gGkva",
        "colab": {
          "base_uri": "https://localhost:8080/"
        },
        "outputId": "42135403-5923-43c6-bfdb-a2bedb0e10e2"
      },
      "execution_count": null,
      "outputs": [
        {
          "output_type": "stream",
          "name": "stdout",
          "text": [
            "torch.Size([1024, 3, 32, 32])\n",
            "tensor([6, 6, 4,  ..., 8, 4, 7])\n"
          ]
        }
      ]
    },
    {
      "cell_type": "markdown",
      "source": [
        "### Try to plot the images"
      ],
      "metadata": {
        "id": "sSnCKnI8KPt0"
      }
    },
    {
      "cell_type": "code",
      "source": [
        "fig, ax = plt.subplots(1, 10, figsize=(15, 4))\n",
        "for plot_idx in range(10):\n",
        "    ax[plot_idx].imshow(sample[0][plot_idx].permute(1, 2, 0))\n",
        "    ax[plot_idx].set_title('LABEL : {}'.format(sample[1][plot_idx]))\n",
        "    ax[plot_idx].set_xticks([])\n",
        "    ax[plot_idx].set_yticks([])\n",
        "plt.show()"
      ],
      "metadata": {
        "id": "nqPJLSMSGk_j",
        "colab": {
          "base_uri": "https://localhost:8080/",
          "height": 121
        },
        "outputId": "4bef6465-f472-4ea9-cfac-6c2dcd67895d"
      },
      "execution_count": null,
      "outputs": [
        {
          "output_type": "display_data",
          "data": {
            "image/png": "[encoded data removed]",
            "text/plain": [
              "<Figure size 1080x288 with 10 Axes>"
            ]
          },
          "metadata": {}
        }
      ]
    },
    {
      "cell_type": "code",
      "source": [
        "p = torch.ones(4, 5, 6)\n",
        "print(p.shape)\n",
        "p = p.permute(2, 1, 0)\n",
        "print(p.shape)"
      ],
      "metadata": {
        "colab": {
          "base_uri": "https://localhost:8080/"
        },
        "id": "53v83AZPQabi",
        "outputId": "88ebcc2d-c210-4e0a-fff4-1dfc8155480d"
      },
      "execution_count": null,
      "outputs": [
        {
          "output_type": "stream",
          "name": "stdout",
          "text": [
            "torch.Size([4, 5, 6])\n",
            "torch.Size([6, 5, 4])\n"
          ]
        }
      ]
    },
    {
      "cell_type": "markdown",
      "source": [
        "### Try to divide the image into patches"
      ],
      "metadata": {
        "id": "E7jvPCm5KUPe"
      }
    },
    {
      "cell_type": "code",
      "source": [
        "patches = sample[0].unfold(2, 16, 16).unfold(3, 16, 16).reshape(batch_size, 3, -1, 16, 16).permute(0, 2, 1, 3, 4)\n",
        "# patches = sample[0].unfold(2, 16, 16).unfold(3, 16, 16).reshape(batch_size, -1, 3, 16, 16) <- does not work!\n",
        "fig, ax = plt.subplots(2, 2, figsize=(3, 3))\n",
        "for i in range(2):\n",
        "    for j in range(2):\n",
        "        ax[i][j].imshow(patches[0][i*2+j].permute(1, 2, 0))\n",
        "        ax[i][j].set_xticks([])\n",
        "        ax[i][j].set_yticks([])"
      ],
      "metadata": {
        "id": "h00V96z8GlNj",
        "colab": {
          "base_uri": "https://localhost:8080/",
          "height": 197
        },
        "outputId": "3e87d969-8063-4c48-8589-421a6cd2bc4f"
      },
      "execution_count": null,
      "outputs": [
        {
          "output_type": "display_data",
          "data": {
            "image/png": "[encoded data removed]",
            "text/plain": [
              "<Figure size 216x216 with 4 Axes>"
            ]
          },
          "metadata": {}
        }
      ]
    },
    {
      "cell_type": "markdown",
      "source": [
        "### Define the simple ViT model"
      ],
      "metadata": {
        "id": "bspB_JuuMR2a"
      }
    },
    {
      "cell_type": "code",
      "source": [
        "class SimpleViT(nn.Module):\n",
        "    def __init__(self, feat_dim, img_size, patch_size, dim_output, nhead, num_layers):\n",
        "        super(SimpleViT, self).__init__()\n",
        "        \n",
        "        ## define the attribute\n",
        "        self.feat_dim = feat_dim\n",
        "        self.img_size = img_size\n",
        "        self.patch_size = patch_size\n",
        "        self.dim_output = dim_output\n",
        "        self.nhead = nhead\n",
        "        self.num_layers = num_layers\n",
        "        \n",
        "        ### define layers\n",
        "        # 3 X p_s x p_s -> flatten -> 3*patch_size**2\n",
        "        self.inp_linear_layer = nn.Linear(3*patch_size**2, feat_dim)\n",
        "        \n",
        "        # complicated shape! \n",
        "        self.pos_embedding = nn.Parameter(torch.randn(img_size//(patch_size**2)+1, 1, feat_dim))\n",
        "\n",
        "        self.encoder_layer = nn.TransformerEncoderLayer(d_model=feat_dim, nhead=nhead)\n",
        "        self.transformer_encoder = nn.TransformerEncoder(self.encoder_layer, num_layers=num_layers)\n",
        "\n",
        "        # complicated shape!\n",
        "        self.init_param = nn.Parameter(torch.randn(1, 1, feat_dim))\n",
        "\n",
        "        # output linear layer\n",
        "        self.out_linear_layer = nn.Linear(feat_dim, dim_output)\n",
        "        \n",
        "    def forward(self, img):\n",
        "        ## get image shape\n",
        "        B, D, H, W = img.shape\n",
        "\n",
        "        # divide image into patches\n",
        "        patches = img.unfold(2, self.patch_size, self.patch_size).unfold(3, self.patch_size, self.patch_size).reshape(B, D, -1, self.patch_size, self.patch_size).permute(0, 2, 1, 3, 4)\n",
        "        \n",
        "        # run the VIT\n",
        "        B, N, D, H, W = patches.shape\n",
        "\n",
        "        # flatten the patch into vectors.\n",
        "        inp = patches.reshape(B, N, D*H*W).permute(1, 0, 2) # N, B, D' (T, B, D)\n",
        "\n",
        "        # PUT linear layer to the inp\n",
        "        inp = self.inp_linear_layer(inp) # N B feat_dim\n",
        "\n",
        "        # add the learnable initial embedding. -> we need to add 1 by B by feat_dim to N by B by feat_dim => (N+1) by B by feat_dim\n",
        "        inp = torch.cat([self.init_param.repeat(1, B, 1), inp], dim=0) # (N+1) by B by feat_dim\n",
        "\n",
        "        # add the positional embedding (N+1 by 1 by feat_dim)\n",
        "        inp += self.pos_embedding     \n",
        "\n",
        "        # put input to transformer encoder   \n",
        "        out = self.transformer_encoder(inp)\n",
        "        \n",
        "        # get output from the the first layer \n",
        "        out = self.out_linear_layer(out[0])\n",
        "        \n",
        "        return out"
      ],
      "metadata": {
        "id": "WVxiBUFtGlYN"
      },
      "execution_count": null,
      "outputs": []
    },
    {
      "cell_type": "markdown",
      "source": [
        "### Define the model and optimizer"
      ],
      "metadata": {
        "id": "I1cVA-d8Q3fl"
      }
    },
    {
      "cell_type": "code",
      "source": [
        "model = SimpleViT(feat_dim=1024, img_size=32, patch_size=8, dim_output=10, nhead=8, num_layers=6)\n",
        "model = model.to(device)\n",
        "\n",
        "optimizer = optim.Adam(model.parameters(), lr=1e-4)"
      ],
      "metadata": {
        "id": "6kL_1SXVGsMc"
      },
      "execution_count": null,
      "outputs": []
    },
    {
      "cell_type": "markdown",
      "source": [
        "### Define the function for training"
      ],
      "metadata": {
        "id": "kwT2Ghr_Q6_k"
      }
    },
    {
      "cell_type": "code",
      "source": [
        "def train(model, optimizer, sample):\n",
        "    model.train()\n",
        "\n",
        "    criterion = nn.CrossEntropyLoss()\n",
        "\n",
        "    optimizer.zero_grad()\n",
        "\n",
        "    img = sample[0].float().to(device)\n",
        "    label = sample[1].long().to(device) \n",
        "    \n",
        "    pred = model(img)\n",
        "\n",
        "    num_correct = sum(torch.argmax(pred, dim=1) == label)\n",
        "    \n",
        "    pred_loss = criterion(pred, label)\n",
        "    \n",
        "    # Try to add the regularization loss!\n",
        "\n",
        "    pred_loss.backward()\n",
        "       \n",
        "    optimizer.step()\n",
        "\n",
        "    return pred_loss.item(), num_correct.item()"
      ],
      "metadata": {
        "id": "9qkjmOnLGs6A"
      },
      "execution_count": null,
      "outputs": []
    },
    {
      "cell_type": "markdown",
      "source": [
        "### Define function for testing"
      ],
      "metadata": {
        "id": "ENSFNuyNQ93j"
      }
    },
    {
      "cell_type": "code",
      "source": [
        "def test(model, sample):\n",
        "    model.eval()\n",
        "\n",
        "    criterion = nn.CrossEntropyLoss()\n",
        "\n",
        "    with torch.no_grad():\n",
        "        img = sample[0].float().to(device)\n",
        "        label = sample[1].long().to(device) \n",
        "\n",
        "        pred = model(img)\n",
        "        pred_loss = criterion(pred, label)\n",
        "\n",
        "        num_correct = sum(torch.argmax(pred, dim=1) == label)\n",
        "\n",
        "    return pred_loss.item(), num_correct.item()"
      ],
      "metadata": {
        "id": "bREmktvRGubp"
      },
      "execution_count": null,
      "outputs": []
    },
    {
      "cell_type": "markdown",
      "source": [
        "### Run training and testing for 200 epochs"
      ],
      "metadata": {
        "id": "OtMHMqwsRA0H"
      }
    },
    {
      "cell_type": "code",
      "source": [
        "max_epoch = 200\n",
        "tmp_path = './checkpoint.pth'\n",
        "\n",
        "for epoch in tqdm(range(max_epoch)):        \n",
        "    ###Train Phase\n",
        "    \n",
        "    # Initialize Loss and Accuracy\n",
        "    train_loss = 0.0\n",
        "    train_accu = 0.0\n",
        "\n",
        "    # Load the saved MODEL AND OPTIMIZER after evaluation.\n",
        "    if epoch > 0:\n",
        "        checkpoint = torch.load(tmp_path)\n",
        "        model.load_state_dict(checkpoint['model_state_dict'])\n",
        "        optimizer.load_state_dict(checkpoint['optimizer_state_dict'])\n",
        "\n",
        "    # Iterate over the train_dataloader\n",
        "    for idx, sample in enumerate(train_dataloader):\n",
        "        curr_loss, num_correct = train(model, optimizer, sample)\n",
        "        train_loss += curr_loss / len(train_dataloader)\n",
        "        train_accu += num_correct / len(train_dataset)\n",
        "\n",
        "    # save the model and optimizer's information before the evaulation\n",
        "    checkpoint = {\n",
        "        'model_state_dict': model.state_dict(),\n",
        "        'optimizer_state_dict': optimizer.state_dict(),\n",
        "    }\n",
        "    torch.save(checkpoint, tmp_path)\n",
        "    \n",
        "    ### Test Phase\n",
        "    # Initialize Loss and Accuracy\n",
        "    test_loss = 0.0\n",
        "    test_accu = 0.0\n",
        "\n",
        "    # Iterate over the test_dataloader\n",
        "    for idx, sample in enumerate(test_dataloader):\n",
        "        curr_loss, num_correct = test(model, sample)\n",
        "        test_loss += curr_loss / len(test_dataloader)\n",
        "        test_accu += num_correct / len(test_dataset)\n",
        "\n",
        "    print('[EPOCH {}] tr_loss : {}, te_loss : {} , te_accu = {}'.format(epoch+1, train_loss, test_loss, test_accu))"
      ],
      "metadata": {
        "id": "Epo0rUx6GwYw",
        "colab": {
          "base_uri": "https://localhost:8080/",
          "height": 1000,
          "referenced_widgets": [
            "faf8032f5e1743eda87b3787e65b003b",
            "c224c07f099e45dd9344b11f5d10aa0d",
            "be7fa20ef0af42c78c9d136d4bf65bba",
            "86eecd7f9c6349bebe02e19ede3bdc89",
            "140b0644a62f459c8a779b63f18ecdf9",
            "bc3cb2f4900641eabadfc56aa453b731",
            "0ef18b5662524b519651ea0a33a63bdc",
            "78a6986519b546ddb2b98d5272f9f191",
            "6986bec3121b47b4b0c455badb2f44e0",
            "73e9f5cfdf734324b143670f7382b4ad",
            "c776df075fb740fdb3bff0516a47f8e4"
          ]
        },
        "outputId": "47cbef54-f01f-4ebb-8cdd-f07a022ff230"
      },
      "execution_count": null,
      "outputs": [
        {
          "output_type": "display_data",
          "data": {
            "application/vnd.jupyter.widget-view+json": {
              "model_id": "faf8032f5e1743eda87b3787e65b003b",
              "version_minor": 0,
              "version_major": 2
            },
            "text/plain": [
              "  0%|          | 0/200 [00:00<?, ?it/s]"
            ]
          },
          "metadata": {}
        },
        {
          "output_type": "stream",
          "name": "stdout",
          "text": [
            "[EPOCH 1] tr_loss : 2.408102278806726, te_loss : 2.2889762878417965 , te_accu = 0.13679999999999998\n",
            "[EPOCH 2] tr_loss : 2.196884914320342, te_loss : 2.0713794946670534 , te_accu = 0.213\n",
            "[EPOCH 3] tr_loss : 2.068079111527423, te_loss : 2.025296211242676 , te_accu = 0.22390000000000004\n",
            "[EPOCH 4] tr_loss : 2.0054106225772776, te_loss : 1.9231728792190552 , te_accu = 0.29040000000000005\n",
            "[EPOCH 5] tr_loss : 1.921308979696157, te_loss : 1.854086351394653 , te_accu = 0.31770000000000004\n",
            "[EPOCH 6] tr_loss : 1.8495533223054852, te_loss : 1.8068124294281007 , te_accu = 0.3291\n",
            "[EPOCH 7] tr_loss : 1.8061631820639779, te_loss : 1.7079037547111509 , te_accu = 0.3701\n",
            "[EPOCH 8] tr_loss : 1.7348386170912764, te_loss : 1.688767981529236 , te_accu = 0.38149999999999995\n",
            "[EPOCH 9] tr_loss : 1.6792490360688188, te_loss : 1.690370786190033 , te_accu = 0.38730000000000003\n",
            "[EPOCH 10] tr_loss : 1.6361629306053622, te_loss : 1.5898499727249145 , te_accu = 0.4254\n",
            "[EPOCH 11] tr_loss : 1.5996675783274132, te_loss : 1.6120202422142027 , te_accu = 0.40640000000000004\n",
            "[EPOCH 12] tr_loss : 1.5654395380798651, te_loss : 1.5401344180107115 , te_accu = 0.44\n",
            "[EPOCH 13] tr_loss : 1.5241887277486377, te_loss : 1.5766158103942873 , te_accu = 0.4214\n",
            "[EPOCH 14] tr_loss : 1.4956596165287253, te_loss : 1.4931116342544555 , te_accu = 0.45970000000000005\n",
            "[EPOCH 15] tr_loss : 1.4506351363902188, te_loss : 1.499879801273346 , te_accu = 0.4566999999999999\n",
            "[EPOCH 16] tr_loss : 1.4313806660321293, te_loss : 1.4694632053375243 , te_accu = 0.47200000000000003\n",
            "[EPOCH 17] tr_loss : 1.3939049462882842, te_loss : 1.4557384133338929 , te_accu = 0.4827000000000001\n",
            "[EPOCH 18] tr_loss : 1.3531071044960796, te_loss : 1.468999409675598 , te_accu = 0.47709999999999997\n",
            "[EPOCH 19] tr_loss : 1.3444283203202851, te_loss : 1.439707827568054 , te_accu = 0.48440000000000005\n",
            "[EPOCH 20] tr_loss : 1.3060443936562047, te_loss : 1.4168683648109437 , te_accu = 0.49729999999999996\n",
            "[EPOCH 21] tr_loss : 1.255588441478963, te_loss : 1.3976935267448427 , te_accu = 0.5033000000000001\n",
            "[EPOCH 22] tr_loss : 1.2267443452562603, te_loss : 1.3896142959594726 , te_accu = 0.5044\n",
            "[EPOCH 23] tr_loss : 1.186420153598396, te_loss : 1.4273841619491578 , te_accu = 0.5009\n",
            "[EPOCH 24] tr_loss : 1.157516713045081, te_loss : 1.4075355768203734 , te_accu = 0.5069\n",
            "[EPOCH 25] tr_loss : 1.1197960303754222, te_loss : 1.4466689944267273 , te_accu = 0.5036999999999999\n",
            "[EPOCH 26] tr_loss : 1.082440529550825, te_loss : 1.4274547934532165 , te_accu = 0.5048\n",
            "[EPOCH 27] tr_loss : 1.0277586907756575, te_loss : 1.4266841173171998 , te_accu = 0.513\n",
            "[EPOCH 28] tr_loss : 0.9818571684311843, te_loss : 1.4500091433525084 , te_accu = 0.5118\n",
            "[EPOCH 29] tr_loss : 0.9268585978722087, te_loss : 1.4823856949806211 , te_accu = 0.5108999999999999\n",
            "[EPOCH 30] tr_loss : 0.8919839822516149, te_loss : 1.5119422078132632 , te_accu = 0.5081000000000001\n",
            "[EPOCH 31] tr_loss : 0.8441707029634593, te_loss : 1.5300596594810485 , te_accu = 0.5053\n",
            "[EPOCH 32] tr_loss : 0.7922397049105896, te_loss : 1.553782844543457 , te_accu = 0.5130999999999999\n",
            "[EPOCH 33] tr_loss : 0.7285415834310104, te_loss : 1.5661858916282652 , te_accu = 0.5186\n",
            "[EPOCH 34] tr_loss : 0.6796769889033569, te_loss : 1.6439345359802244 , te_accu = 0.5115000000000001\n",
            "[EPOCH 35] tr_loss : 0.6307312821855351, te_loss : 1.7097820281982425 , te_accu = 0.5095\n",
            "[EPOCH 36] tr_loss : 0.5819633864626593, te_loss : 1.773241925239563 , te_accu = 0.511\n",
            "[EPOCH 37] tr_loss : 0.5270595453223405, te_loss : 1.8188880920410158 , te_accu = 0.5124\n",
            "[EPOCH 38] tr_loss : 0.49416522408018304, te_loss : 1.8403105020523072 , te_accu = 0.5113\n",
            "[EPOCH 39] tr_loss : 0.45541143903926923, te_loss : 1.9276669859886169 , te_accu = 0.5134\n",
            "[EPOCH 40] tr_loss : 0.4032309864248549, te_loss : 1.9499138116836547 , te_accu = 0.5176000000000001\n",
            "[EPOCH 41] tr_loss : 0.37919091874239386, te_loss : 1.9787680864334105 , te_accu = 0.5164\n",
            "[EPOCH 42] tr_loss : 0.32683060485489523, te_loss : 2.1343979120254515 , te_accu = 0.5142\n",
            "[EPOCH 43] tr_loss : 0.30265127365686456, te_loss : 2.1930169343948362 , te_accu = 0.5084000000000001\n",
            "[EPOCH 44] tr_loss : 0.29724569801165135, te_loss : 2.187950539588928 , te_accu = 0.517\n",
            "[EPOCH 45] tr_loss : 0.2525935510591584, te_loss : 2.295119071006775 , te_accu = 0.5098999999999999\n",
            "[EPOCH 46] tr_loss : 0.23165321502150318, te_loss : 2.443619990348816 , te_accu = 0.5078\n",
            "[EPOCH 47] tr_loss : 0.21727027972133792, te_loss : 2.3584470748901367 , te_accu = 0.5062\n",
            "[EPOCH 48] tr_loss : 0.19161246747386698, te_loss : 2.4304374217987066 , te_accu = 0.5025999999999999\n",
            "[EPOCH 49] tr_loss : 0.1641941256060893, te_loss : 2.514813375473022 , te_accu = 0.5163000000000001\n",
            "[EPOCH 50] tr_loss : 0.15585161471853448, te_loss : 2.5678736686706545 , te_accu = 0.517\n",
            "[EPOCH 51] tr_loss : 0.14762838899481054, te_loss : 2.670496368408203 , te_accu = 0.5152\n",
            "[EPOCH 52] tr_loss : 0.14686162374457531, te_loss : 2.6407751083374023 , te_accu = 0.5058\n",
            "[EPOCH 53] tr_loss : 0.14123763448121596, te_loss : 2.773950600624085 , te_accu = 0.5128\n",
            "[EPOCH 54] tr_loss : 0.13610209874352636, te_loss : 2.6910664558410646 , te_accu = 0.5184\n",
            "[EPOCH 55] tr_loss : 0.11826680022843031, te_loss : 2.7775858640670776 , te_accu = 0.5155\n",
            "[EPOCH 56] tr_loss : 0.11053061652548458, te_loss : 2.8477062225341796 , te_accu = 0.508\n",
            "[EPOCH 57] tr_loss : 0.10460547616287155, te_loss : 2.875815629959107 , te_accu = 0.5148\n",
            "[EPOCH 58] tr_loss : 0.09911670535802841, te_loss : 2.83934063911438 , te_accu = 0.515\n",
            "[EPOCH 59] tr_loss : 0.09435109353187132, te_loss : 2.904117059707642 , te_accu = 0.5071\n",
            "[EPOCH 60] tr_loss : 0.08798722451438712, te_loss : 2.9524526596069336 , te_accu = 0.5155\n",
            "[EPOCH 61] tr_loss : 0.0935697567706205, te_loss : 2.929890251159668 , te_accu = 0.5057999999999999\n",
            "[EPOCH 62] tr_loss : 0.0921512129811608, te_loss : 3.04803478717804 , te_accu = 0.5061000000000001\n"
          ]
        }
      ]
    }
  ]
}