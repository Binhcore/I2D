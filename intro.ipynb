{
  "nbformat": 4,
  "nbformat_minor": 0,
  "metadata": {
    "colab": {
      "name": "intro.ipynb",
      "provenance": [],
      "authorship_tag": "ABX9TyNCW2J5C5T5JmiafZj+ibb1",
      "include_colab_link": true
    },
    "kernelspec": {
      "name": "python3",
      "display_name": "Python 3"
    },
    "language_info": {
      "name": "python"
    }
  },
  "cells": [
    {
      "cell_type": "markdown",
      "metadata": {
        "id": "view-in-github",
        "colab_type": "text"
      },
      "source": [
        "<a href=\"https://colab.research.google.com/github/Binhcore/I2D/blob/main/intro.ipynb\" target=\"_parent\"><img src=\"https://colab.research.google.com/assets/colab-badge.svg\" alt=\"Open In Colab\"/></a>"
      ]
    },
    {
      "cell_type": "code",
      "metadata": {
        "id": "xxJ1weuPo6P4"
      },
      "source": [
        ""
      ],
      "execution_count": null,
      "outputs": []
    },
    {
      "cell_type": "markdown",
      "metadata": {
        "id": "b3viNjZao_V_"
      },
      "source": [
        "## Write some text\n",
        "- This is the introduction to deep learning course \n",
        "- This is new the colaboratory file."
      ]
    },
    {
      "cell_type": "markdown",
      "metadata": {
        "id": "-WA3GV6Ypc5C"
      },
      "source": [
        "### import packages"
      ]
    },
    {
      "cell_type": "code",
      "metadata": {
        "id": "Wc_dFX5kn_8L"
      },
      "source": [
        "import numpy as np\n",
        "import os\n",
        "import sys\n",
        "import torch"
      ],
      "execution_count": 3,
      "outputs": []
    },
    {
      "cell_type": "markdown",
      "metadata": {
        "id": "iwSzV3qrpjIK"
      },
      "source": [
        "## Trials for printing"
      ]
    },
    {
      "cell_type": "markdown",
      "metadata": {
        "id": "HE9Y1zpDptA9"
      },
      "source": [
        "# Neuer Abschnitt"
      ]
    },
    {
      "cell_type": "code",
      "metadata": {
        "colab": {
          "base_uri": "https://localhost:8080/"
        },
        "id": "1BRM3g9Jorzd",
        "outputId": "1182cef3-1ce7-496b-8a3e-dd3ca25e2526"
      },
      "source": [
        "print(\"new code cell above\")"
      ],
      "execution_count": 7,
      "outputs": [
        {
          "output_type": "stream",
          "name": "stdout",
          "text": [
            "new code cell above\n"
          ]
        }
      ]
    },
    {
      "cell_type": "code",
      "metadata": {
        "colab": {
          "base_uri": "https://localhost:8080/"
        },
        "id": "YDCMhLayoyr5",
        "outputId": "c72e2ae0-3630-41ad-951c-9242e85e41b1"
      },
      "source": [
        "print(\"new code cell\")"
      ],
      "execution_count": 6,
      "outputs": [
        {
          "output_type": "stream",
          "name": "stdout",
          "text": [
            "new code cell\n"
          ]
        }
      ]
    },
    {
      "cell_type": "code",
      "metadata": {
        "id": "-vv7AIBBo5H2"
      },
      "source": [
        ""
      ],
      "execution_count": null,
      "outputs": []
    }
  ]
}