{
  "nbformat": 4,
  "nbformat_minor": 0,
  "metadata": {
    "colab": {
      "name": "Copy of [SKELETON] Lecture_2_Linear_Regression.ipynb",
      "provenance": [],
      "collapsed_sections": [],
      "include_colab_link": true
    },
    "kernelspec": {
      "name": "python3",
      "display_name": "Python 3"
    },
    "widgets": {
      "application/vnd.jupyter.widget-state+json": {
        "356215ea77924405ac0d9914c3744416": {
          "model_module": "@jupyter-widgets/controls",
          "model_name": "HBoxModel",
          "model_module_version": "1.5.0",
          "state": {
            "_view_name": "HBoxView",
            "_dom_classes": [],
            "_model_name": "HBoxModel",
            "_view_module": "@jupyter-widgets/controls",
            "_model_module_version": "1.5.0",
            "_view_count": null,
            "_view_module_version": "1.5.0",
            "box_style": "",
            "layout": "IPY_MODEL_2839a363d819490f888cea9287dca520",
            "_model_module": "@jupyter-widgets/controls",
            "children": [
              "IPY_MODEL_ab1e225a846547729defe7a3c3eeb958",
              "IPY_MODEL_8c49a83e71524ed4942818de61dae358",
              "IPY_MODEL_5902c3453750452abda48ec63f3961c4"
            ]
          }
        },
        "2839a363d819490f888cea9287dca520": {
          "model_module": "@jupyter-widgets/base",
          "model_name": "LayoutModel",
          "model_module_version": "1.2.0",
          "state": {
            "_view_name": "LayoutView",
            "grid_template_rows": null,
            "right": null,
            "justify_content": null,
            "_view_module": "@jupyter-widgets/base",
            "overflow": null,
            "_model_module_version": "1.2.0",
            "_view_count": null,
            "flex_flow": null,
            "width": null,
            "min_width": null,
            "border": null,
            "align_items": null,
            "bottom": null,
            "_model_module": "@jupyter-widgets/base",
            "top": null,
            "grid_column": null,
            "overflow_y": null,
            "overflow_x": null,
            "grid_auto_flow": null,
            "grid_area": null,
            "grid_template_columns": null,
            "flex": null,
            "_model_name": "LayoutModel",
            "justify_items": null,
            "grid_row": null,
            "max_height": null,
            "align_content": null,
            "visibility": null,
            "align_self": null,
            "height": null,
            "min_height": null,
            "padding": null,
            "grid_auto_rows": null,
            "grid_gap": null,
            "max_width": null,
            "order": null,
            "_view_module_version": "1.2.0",
            "grid_template_areas": null,
            "object_position": null,
            "object_fit": null,
            "grid_auto_columns": null,
            "margin": null,
            "display": null,
            "left": null
          }
        },
        "ab1e225a846547729defe7a3c3eeb958": {
          "model_module": "@jupyter-widgets/controls",
          "model_name": "HTMLModel",
          "model_module_version": "1.5.0",
          "state": {
            "_view_name": "HTMLView",
            "style": "IPY_MODEL_b92e9b533c1b42b6be729414ae32e3e1",
            "_dom_classes": [],
            "description": "",
            "_model_name": "HTMLModel",
            "placeholder": "​",
            "_view_module": "@jupyter-widgets/controls",
            "_model_module_version": "1.5.0",
            "value": "100%",
            "_view_count": null,
            "_view_module_version": "1.5.0",
            "description_tooltip": null,
            "_model_module": "@jupyter-widgets/controls",
            "layout": "IPY_MODEL_b97dac22a46d463c8de2ee1f37661af4"
          }
        },
        "8c49a83e71524ed4942818de61dae358": {
          "model_module": "@jupyter-widgets/controls",
          "model_name": "FloatProgressModel",
          "model_module_version": "1.5.0",
          "state": {
            "_view_name": "ProgressView",
            "style": "IPY_MODEL_592f0a7c02f7473b8478a0636310642f",
            "_dom_classes": [],
            "description": "",
            "_model_name": "FloatProgressModel",
            "bar_style": "success",
            "max": 1000,
            "_view_module": "@jupyter-widgets/controls",
            "_model_module_version": "1.5.0",
            "value": 1000,
            "_view_count": null,
            "_view_module_version": "1.5.0",
            "orientation": "horizontal",
            "min": 0,
            "description_tooltip": null,
            "_model_module": "@jupyter-widgets/controls",
            "layout": "IPY_MODEL_d4cddbcff9a3459aa5ee80f5d5715747"
          }
        },
        "5902c3453750452abda48ec63f3961c4": {
          "model_module": "@jupyter-widgets/controls",
          "model_name": "HTMLModel",
          "model_module_version": "1.5.0",
          "state": {
            "_view_name": "HTMLView",
            "style": "IPY_MODEL_d2bd56498bca40b8ac718773a3194cff",
            "_dom_classes": [],
            "description": "",
            "_model_name": "HTMLModel",
            "placeholder": "​",
            "_view_module": "@jupyter-widgets/controls",
            "_model_module_version": "1.5.0",
            "value": " 1000/1000 [00:06&lt;00:00, 148.57it/s]",
            "_view_count": null,
            "_view_module_version": "1.5.0",
            "description_tooltip": null,
            "_model_module": "@jupyter-widgets/controls",
            "layout": "IPY_MODEL_ac4a956568764d079f2d66d30c20a7b8"
          }
        },
        "b92e9b533c1b42b6be729414ae32e3e1": {
          "model_module": "@jupyter-widgets/controls",
          "model_name": "DescriptionStyleModel",
          "model_module_version": "1.5.0",
          "state": {
            "_view_name": "StyleView",
            "_model_name": "DescriptionStyleModel",
            "description_width": "",
            "_view_module": "@jupyter-widgets/base",
            "_model_module_version": "1.5.0",
            "_view_count": null,
            "_view_module_version": "1.2.0",
            "_model_module": "@jupyter-widgets/controls"
          }
        },
        "b97dac22a46d463c8de2ee1f37661af4": {
          "model_module": "@jupyter-widgets/base",
          "model_name": "LayoutModel",
          "model_module_version": "1.2.0",
          "state": {
            "_view_name": "LayoutView",
            "grid_template_rows": null,
            "right": null,
            "justify_content": null,
            "_view_module": "@jupyter-widgets/base",
            "overflow": null,
            "_model_module_version": "1.2.0",
            "_view_count": null,
            "flex_flow": null,
            "width": null,
            "min_width": null,
            "border": null,
            "align_items": null,
            "bottom": null,
            "_model_module": "@jupyter-widgets/base",
            "top": null,
            "grid_column": null,
            "overflow_y": null,
            "overflow_x": null,
            "grid_auto_flow": null,
            "grid_area": null,
            "grid_template_columns": null,
            "flex": null,
            "_model_name": "LayoutModel",
            "justify_items": null,
            "grid_row": null,
            "max_height": null,
            "align_content": null,
            "visibility": null,
            "align_self": null,
            "height": null,
            "min_height": null,
            "padding": null,
            "grid_auto_rows": null,
            "grid_gap": null,
            "max_width": null,
            "order": null,
            "_view_module_version": "1.2.0",
            "grid_template_areas": null,
            "object_position": null,
            "object_fit": null,
            "grid_auto_columns": null,
            "margin": null,
            "display": null,
            "left": null
          }
        },
        "592f0a7c02f7473b8478a0636310642f": {
          "model_module": "@jupyter-widgets/controls",
          "model_name": "ProgressStyleModel",
          "model_module_version": "1.5.0",
          "state": {
            "_view_name": "StyleView",
            "_model_name": "ProgressStyleModel",
            "description_width": "",
            "_view_module": "@jupyter-widgets/base",
            "_model_module_version": "1.5.0",
            "_view_count": null,
            "_view_module_version": "1.2.0",
            "bar_color": null,
            "_model_module": "@jupyter-widgets/controls"
          }
        },
        "d4cddbcff9a3459aa5ee80f5d5715747": {
          "model_module": "@jupyter-widgets/base",
          "model_name": "LayoutModel",
          "model_module_version": "1.2.0",
          "state": {
            "_view_name": "LayoutView",
            "grid_template_rows": null,
            "right": null,
            "justify_content": null,
            "_view_module": "@jupyter-widgets/base",
            "overflow": null,
            "_model_module_version": "1.2.0",
            "_view_count": null,
            "flex_flow": null,
            "width": null,
            "min_width": null,
            "border": null,
            "align_items": null,
            "bottom": null,
            "_model_module": "@jupyter-widgets/base",
            "top": null,
            "grid_column": null,
            "overflow_y": null,
            "overflow_x": null,
            "grid_auto_flow": null,
            "grid_area": null,
            "grid_template_columns": null,
            "flex": null,
            "_model_name": "LayoutModel",
            "justify_items": null,
            "grid_row": null,
            "max_height": null,
            "align_content": null,
            "visibility": null,
            "align_self": null,
            "height": null,
            "min_height": null,
            "padding": null,
            "grid_auto_rows": null,
            "grid_gap": null,
            "max_width": null,
            "order": null,
            "_view_module_version": "1.2.0",
            "grid_template_areas": null,
            "object_position": null,
            "object_fit": null,
            "grid_auto_columns": null,
            "margin": null,
            "display": null,
            "left": null
          }
        },
        "d2bd56498bca40b8ac718773a3194cff": {
          "model_module": "@jupyter-widgets/controls",
          "model_name": "DescriptionStyleModel",
          "model_module_version": "1.5.0",
          "state": {
            "_view_name": "StyleView",
            "_model_name": "DescriptionStyleModel",
            "description_width": "",
            "_view_module": "@jupyter-widgets/base",
            "_model_module_version": "1.5.0",
            "_view_count": null,
            "_view_module_version": "1.2.0",
            "_model_module": "@jupyter-widgets/controls"
          }
        },
        "ac4a956568764d079f2d66d30c20a7b8": {
          "model_module": "@jupyter-widgets/base",
          "model_name": "LayoutModel",
          "model_module_version": "1.2.0",
          "state": {
            "_view_name": "LayoutView",
            "grid_template_rows": null,
            "right": null,
            "justify_content": null,
            "_view_module": "@jupyter-widgets/base",
            "overflow": null,
            "_model_module_version": "1.2.0",
            "_view_count": null,
            "flex_flow": null,
            "width": null,
            "min_width": null,
            "border": null,
            "align_items": null,
            "bottom": null,
            "_model_module": "@jupyter-widgets/base",
            "top": null,
            "grid_column": null,
            "overflow_y": null,
            "overflow_x": null,
            "grid_auto_flow": null,
            "grid_area": null,
            "grid_template_columns": null,
            "flex": null,
            "_model_name": "LayoutModel",
            "justify_items": null,
            "grid_row": null,
            "max_height": null,
            "align_content": null,
            "visibility": null,
            "align_self": null,
            "height": null,
            "min_height": null,
            "padding": null,
            "grid_auto_rows": null,
            "grid_gap": null,
            "max_width": null,
            "order": null,
            "_view_module_version": "1.2.0",
            "grid_template_areas": null,
            "object_position": null,
            "object_fit": null,
            "grid_auto_columns": null,
            "margin": null,
            "display": null,
            "left": null
          }
        }
      }
    }
  },
  "cells": [
    {
      "cell_type": "markdown",
      "metadata": {
        "id": "view-in-github",
        "colab_type": "text"
      },
      "source": [
        "<a href=\"https://colab.research.google.com/github/Binhcore/I2D/blob/main/Edit%5BSKELETON%5D_Lecture_2_Linear_Regression.ipynb\" target=\"_parent\"><img src=\"https://colab.research.google.com/assets/colab-badge.svg\" alt=\"Open In Colab\"/></a>"
      ]
    },
    {
      "cell_type": "markdown",
      "metadata": {
        "id": "EAnVFOzm8e54"
      },
      "source": [
        "# Import Packages"
      ]
    },
    {
      "cell_type": "code",
      "metadata": {
        "id": "JFj1uat-xARX"
      },
      "source": [
        "import os\n",
        "import pickle\n",
        "\n",
        "# To see the progress\n",
        "from tqdm.notebook import tqdm\n",
        "\n",
        "import numpy as np\n",
        "\n",
        "# For visualization\n",
        "import matplotlib.pyplot as plt\n",
        "\n",
        "# Things related to the pytorch\n",
        "import torch                                        # main pytorch package\n",
        "import torch.nn as nn                               # pytorch module for neural network\n",
        "from torch.utils.data import Dataset, DataLoader    # pytorch utils for dataset"
      ],
      "execution_count": 1,
      "outputs": []
    },
    {
      "cell_type": "markdown",
      "metadata": {
        "id": "m3snXumO88G7"
      },
      "source": [
        "# Make the dataset! add noise to the linear function\n",
        "- gt_w, gt_b : ground truth weight and bias for linear regression\n",
        "- x : random points\n",
        "- y : gt_w * x + gt_b + (gaussian) noise"
      ]
    },
    {
      "cell_type": "code",
      "metadata": {
        "colab": {
          "base_uri": "https://localhost:8080/",
          "height": 300
        },
        "id": "aM9nrVXP77oi",
        "outputId": "5b0cea6e-3335-40f4-8f16-c5b1c2f142e7"
      },
      "source": [
        "### make the linear dataset. Define the gt_w and gt_b as you want\n",
        "gt_w = 4.0\n",
        "gt_b = -2.0\n",
        "\n",
        "### define the number of data, and value of noise to add to wx+b.\n",
        "num_data = 1000\n",
        "noise_value = 2\n",
        "\n",
        "### Sample some random X between range -1~1 / or range you want..\n",
        "x_range = np.array([-1,1])\n",
        "print(x_range)\n",
        "x = np.linspace(x_range[0], x_range[1], num_data)\n",
        "\n",
        "\n",
        "### Define some noise to add to wx+b\n",
        "noise = noise_value * np.random.randn(num_data) # num_data dimensional vector\n",
        "y = gt_w * x +gt_b + noise\n",
        "plt.plot(x,y)"
      ],
      "execution_count": 2,
      "outputs": [
        {
          "output_type": "stream",
          "name": "stdout",
          "text": [
            "[-1  1]\n"
          ]
        },
        {
          "output_type": "execute_result",
          "data": {
            "text/plain": [
              "[<matplotlib.lines.Line2D at 0x7f9b701aeb50>]"
            ]
          },
          "metadata": {},
          "execution_count": 2
        },
        {
          "output_type": "display_data",
          "data": {
            "image/png": "[encoded data removed]",
            "text/plain": [
              "<Figure size 432x288 with 1 Axes>"
            ]
          },
          "metadata": {
            "needs_background": "light"
          }
        }
      ]
    },
    {
      "cell_type": "code",
      "metadata": {
        "id": "lNg1zAcT-E_m",
        "colab": {
          "base_uri": "https://localhost:8080/",
          "height": 507
        },
        "outputId": "786a932f-ef5d-4848-ed4f-38d50ac28054"
      },
      "source": [
        "### Plot the dataset\n",
        "plt.figure(figsize=(12, 7))\n",
        "plt.plot(x, y, '.')\n",
        "\n",
        "### Plot the ground truth linear regressor\n",
        "plt.plot(x_range, x_range * gt_w + gt_b, linewidth=4)\n",
        "print(x_range) # x\n",
        "print(x_range * gt_w + gt_b) # y\n",
        "\n",
        "### Title and extras\n",
        "plt.title('Linear Dataset', fontsize=20)\n",
        "plt.xlabel('X', fontsize=20)\n",
        "plt.ylabel('Y', fontsize=20)\n",
        "plt.show()"
      ],
      "execution_count": 8,
      "outputs": [
        {
          "output_type": "stream",
          "name": "stdout",
          "text": [
            "[-1  1]\n",
            "[-6.  2.]\n"
          ]
        },
        {
          "output_type": "display_data",
          "data": {
            "image/png": "[encoded data removed]",
            "text/plain": [
              "<Figure size 864x504 with 1 Axes>"
            ]
          },
          "metadata": {
            "needs_background": "light"
          }
        }
      ]
    },
    {
      "cell_type": "markdown",
      "metadata": {
        "id": "Q0cfpMI6-LfL"
      },
      "source": [
        "# Define the Pytorch Dataset with x y points\n",
        "- Define your own class, which inherits from \"Dataset\" class of pytorch\n",
        "- Define constructor of the class with init\n",
        "- Define the length of the dataset with len\n",
        "- Define the function when bringing out the idx-th dataset\n",
        "    * Return the dictionary containing the input and output of single datapoint\n"
      ]
    },
    {
      "cell_type": "code",
      "metadata": {
        "id": "ijn8tboRy9jD"
      },
      "source": [
        "class XY_Dataset(Dataset):\n",
        "    def __init__(self, x, y):\n",
        "        '''\n",
        "        x : input points\n",
        "        y : output points\n",
        "        '''\n",
        "        self.x = x\n",
        "        self.y = y\n",
        "        self.num_data = x.shape[0]\n",
        "        pass\n",
        "\n",
        "    def __len__(self):\n",
        "        return self.num_data\n",
        "\n",
        "    def __getitem__(self, idx):\n",
        "        curr_x = self.x[idx]\n",
        "        curr_y = self.y[idx]\n",
        "\n",
        "        sample = dict()\n",
        "        sample['x'] = curr_x\n",
        "        sample['y'] = curr_y\n",
        "\n",
        "        return sample"
      ],
      "execution_count": 14,
      "outputs": []
    },
    {
      "cell_type": "code",
      "metadata": {
        "colab": {
          "base_uri": "https://localhost:8080/"
        },
        "id": "K-uf3prG9rP-",
        "outputId": "591353a4-5a62-4a42-af5a-2c7961c96e22"
      },
      "source": [
        "sample_dataset = XY_Dataset(x,y)\n",
        "#sample_dataset[0]\n",
        "#sample_dataset[-1]\n",
        "#print(len(sample_dataset))\n",
        "#print(sample_dataset.num_data)"
      ],
      "execution_count": 24,
      "outputs": [
        {
          "output_type": "execute_result",
          "data": {
            "text/plain": [
              "{'x': -1.0, 'y': -8.301103342232281}"
            ]
          },
          "metadata": {},
          "execution_count": 24
        }
      ]
    },
    {
      "cell_type": "markdown",
      "metadata": {
        "id": "a6Jn9ao2_CKn"
      },
      "source": [
        "# Define the dataset, and dataloader\n",
        "- DataLoader makes you to randomly sample the dataset with a batch size you want."
      ]
    },
    {
      "cell_type": "code",
      "metadata": {
        "id": "CnuQAIS90B-Z"
      },
      "source": [
        "### Define the batch size you want\n",
        "batch_size = 64\n",
        "\n",
        "### Create the instance of dataset, and dataloader\n",
        "dataset = XY_Dataset(x,y)\n",
        "dataloader = DataLoader(dataset, batch_size=batch_size, shuffle=True)\n",
        "\n",
        "### Try sampling out one random data point.\n",
        "sample = next(iter(dataloader))\n",
        "#print(sample)\n",
        "#print(sample['x'])"
      ],
      "execution_count": 30,
      "outputs": []
    },
    {
      "cell_type": "markdown",
      "metadata": {
        "id": "lRQdUsk6_jmR"
      },
      "source": [
        "# Initialize the weight and bias."
      ]
    },
    {
      "cell_type": "code",
      "metadata": {
        "id": "lVwGIXk90uGt",
        "colab": {
          "base_uri": "https://localhost:8080/"
        },
        "outputId": "49278630-29ee-4999-c63a-1e8483452266"
      },
      "source": [
        "### Needs requires_grad=True, if you want to make as a parameter to train.\n",
        "pred_w = torch.randn(1, requires_grad=True)\n",
        "pred_b = torch.randn(1, requires_grad=True)\n",
        "print('Initialized w: {}, b: {}'.format(pred_w.item(), pred_b.item()))\n",
        "#optimizer = torch.optim.Adam([pred_w, pred_b], lr=1e-3)"
      ],
      "execution_count": 115,
      "outputs": [
        {
          "output_type": "stream",
          "name": "stdout",
          "text": [
            "Initialized w: -1.5437216758728027, b: -0.36311861872673035\n"
          ]
        }
      ]
    },
    {
      "cell_type": "markdown",
      "metadata": {
        "id": "HOfw2aud_0n-"
      },
      "source": [
        "# Define the ,,train'' function. "
      ]
    },
    {
      "cell_type": "code",
      "metadata": {
        "id": "v2Sogfqk2rSh"
      },
      "source": [
        "def train(pred_w, pred_b, sample, learning_rate):\n",
        "    '''\n",
        "    pred_w : weight to train.\n",
        "    pred_b : bias to train.\n",
        "    sample : sample from dataloader. dictionary containing 'x' and 'y'.\n",
        "    learning_rate : the learning rate you want. \n",
        "    pred_loss : predicted loss from this iteration\n",
        "    '''\n",
        "    \n",
        "    # get prediction\n",
        "    pred_y = sample['x'] * pred_w + pred_b\n",
        "    \n",
        "    # calculate the pred_loss\n",
        "    criteria = nn.MSELoss()\n",
        "    pred_loss = criteria(pred_y, sample['y'])\n",
        "    #pred_loss = torch.mean(torch.norm(pred_y-sample['y'], p=2))\n",
        "    \n",
        "    # make pytorch compute the gradient\n",
        "    pred_loss.backward()\n",
        "\n",
        "    # need ``no_grad'' to keep the computed gradient. otherwise, it will generate NoneType\n",
        "    with torch.no_grad():\n",
        "        pred_w -= learning_rate * pred_w.grad\n",
        "        pred_b -= learning_rate * pred_b.grad\n",
        "        \n",
        "    # initizlize the gradient to zero\n",
        "    pred_w.grad.zero_()\n",
        "    pred_b.grad.zero_()\n",
        "    \n",
        "    return pred_loss.item()"
      ],
      "execution_count": 116,
      "outputs": []
    },
    {
      "cell_type": "code",
      "metadata": {
        "colab": {
          "base_uri": "https://localhost:8080/"
        },
        "id": "TQA5UkxxA3Ft",
        "outputId": "c89458b5-eeb5-4c42-b666-62061c85bf26"
      },
      "source": [
        "train(pred_w, pred_b, sample, learning_rate = 0.1)"
      ],
      "execution_count": 117,
      "outputs": [
        {
          "output_type": "execute_result",
          "data": {
            "text/plain": [
              "17.301827224669346"
            ]
          },
          "metadata": {},
          "execution_count": 117
        }
      ]
    },
    {
      "cell_type": "markdown",
      "metadata": {
        "id": "hxR6mMM7BQev"
      },
      "source": [
        "# Iterate over the dataset! With your ,,train'' function"
      ]
    },
    {
      "cell_type": "code",
      "metadata": {
        "id": "1-X2D2EA2m-E",
        "colab": {
          "base_uri": "https://localhost:8080/",
          "height": 431,
          "referenced_widgets": [
            "356215ea77924405ac0d9914c3744416",
            "2839a363d819490f888cea9287dca520",
            "ab1e225a846547729defe7a3c3eeb958",
            "8c49a83e71524ed4942818de61dae358",
            "5902c3453750452abda48ec63f3961c4",
            "b92e9b533c1b42b6be729414ae32e3e1",
            "b97dac22a46d463c8de2ee1f37661af4",
            "592f0a7c02f7473b8478a0636310642f",
            "d4cddbcff9a3459aa5ee80f5d5715747",
            "d2bd56498bca40b8ac718773a3194cff",
            "ac4a956568764d079f2d66d30c20a7b8"
          ]
        },
        "outputId": "bdf755f5-8d19-45a3-963f-726f68e0210c"
      },
      "source": [
        "# define the maximum epoch\n",
        "max_epoch = 1000\n",
        "\n",
        "# define a list to save the loss\n",
        "loss_saver = list()\n",
        "\n",
        "# define how often you will print the result\n",
        "print_stride = 50\n",
        "\n",
        "# iterate over the dataset for (max_epoch) times\n",
        "for epoch in tqdm(range(max_epoch)):\n",
        "    total_loss = 0.0\n",
        "    for idx, sample in enumerate(dataloader):\n",
        "        curr_loss = train(pred_w, pred_b, sample, learning_rate = 0.1)\n",
        "        total_loss += curr_loss / len(dataloader)\n",
        "    loss_saver.append(total_loss)\n",
        "    if (epoch+1)%print_stride == 0:\n",
        "        print('EPOCH : {}, Loss : {}, pred_w : {}, pred_b : {}'.format(epoch+1, total_loss, pred_w.item(), pred_b.item()))\n",
        "    \n",
        "print()\n",
        "print('Final Prediction : pred_w = {}, pred_b = {}'.format(pred_w.item(), pred_b.item()))"
      ],
      "execution_count": 118,
      "outputs": [
        {
          "output_type": "display_data",
          "data": {
            "application/vnd.jupyter.widget-view+json": {
              "model_id": "356215ea77924405ac0d9914c3744416",
              "version_minor": 0,
              "version_major": 2
            },
            "text/plain": [
              "  0%|          | 0/1000 [00:00<?, ?it/s]"
            ]
          },
          "metadata": {}
        },
        {
          "output_type": "stream",
          "name": "stdout",
          "text": [
            "EPOCH : 50, Loss : 3.9412952242328827, pred_w : 4.228423118591309, pred_b : -1.891449213027954\n",
            "EPOCH : 100, Loss : 3.9382958976627367, pred_w : 4.222720623016357, pred_b : -2.08543062210083\n",
            "EPOCH : 150, Loss : 3.931580738704171, pred_w : 4.28866720199585, pred_b : -2.063483238220215\n",
            "EPOCH : 200, Loss : 3.9471092824816045, pred_w : 4.178511142730713, pred_b : -2.0242090225219727\n",
            "EPOCH : 250, Loss : 3.9476188813799107, pred_w : 4.231903076171875, pred_b : -1.952446460723877\n",
            "EPOCH : 300, Loss : 3.964784716334106, pred_w : 4.204765796661377, pred_b : -2.0594499111175537\n",
            "EPOCH : 350, Loss : 3.9606045692457186, pred_w : 4.1857099533081055, pred_b : -1.9495140314102173\n",
            "EPOCH : 400, Loss : 3.9289747585636796, pred_w : 4.217591762542725, pred_b : -2.028240203857422\n",
            "EPOCH : 450, Loss : 3.952596645803933, pred_w : 4.226825714111328, pred_b : -1.982431411743164\n",
            "EPOCH : 500, Loss : 3.9223544148037717, pred_w : 4.305179595947266, pred_b : -1.9886566400527954\n",
            "EPOCH : 550, Loss : 3.969877753258894, pred_w : 4.250607967376709, pred_b : -2.1573379039764404\n",
            "EPOCH : 600, Loss : 3.9657434305270174, pred_w : 4.237270355224609, pred_b : -1.9631708860397339\n",
            "EPOCH : 650, Loss : 3.9271113295478566, pred_w : 4.2565412521362305, pred_b : -2.080993175506592\n",
            "EPOCH : 700, Loss : 3.9955573918642453, pred_w : 4.15205717086792, pred_b : -1.90181303024292\n",
            "EPOCH : 750, Loss : 3.9285970204424947, pred_w : 4.209239959716797, pred_b : -1.9156439304351807\n",
            "EPOCH : 800, Loss : 3.953554758564914, pred_w : 4.2253336906433105, pred_b : -2.0534515380859375\n",
            "EPOCH : 850, Loss : 3.9352243843912773, pred_w : 4.243662357330322, pred_b : -1.9468097686767578\n",
            "EPOCH : 900, Loss : 3.9528369156390806, pred_w : 4.206099033355713, pred_b : -2.0182042121887207\n",
            "EPOCH : 950, Loss : 3.9870937128123103, pred_w : 4.1957926750183105, pred_b : -2.040222644805908\n",
            "EPOCH : 1000, Loss : 3.9278559373440367, pred_w : 4.291059494018555, pred_b : -1.9646377563476562\n",
            "\n",
            "Final Prediction : pred_w = 4.291059494018555, pred_b = -1.9646377563476562\n"
          ]
        }
      ]
    },
    {
      "cell_type": "markdown",
      "metadata": {
        "id": "x_Ch5xY3B_0w"
      },
      "source": [
        "# Plot the result : training loss and resulted linear regressor"
      ]
    },
    {
      "cell_type": "code",
      "metadata": {
        "id": "gJeS6J9W6j3h",
        "colab": {
          "base_uri": "https://localhost:8080/",
          "height": 472
        },
        "outputId": "b2a2b577-af23-4af7-d7b0-30aeb588322a"
      },
      "source": [
        "loss_saver = np.array(loss_saver)\n",
        "plt.figure(figsize=(12, 7))\n",
        "plt.plot(np.arange(len(loss_saver)), loss_saver, '.-')\n",
        "plt.title('Training Loss', fontsize=20)\n",
        "plt.xlabel('X', fontsize=20)\n",
        "plt.ylabel('Y', fontsize=20)\n",
        "plt.show()"
      ],
      "execution_count": 107,
      "outputs": [
        {
          "output_type": "display_data",
          "data": {
            "image/png": "[encoded data removed]",
            "text/plain": [
              "<Figure size 864x504 with 1 Axes>"
            ]
          },
          "metadata": {
            "needs_background": "light"
          }
        }
      ]
    },
    {
      "cell_type": "code",
      "metadata": {
        "id": "UQEEZhkZ72RL",
        "colab": {
          "base_uri": "https://localhost:8080/",
          "height": 472
        },
        "outputId": "8e0dc4de-2d3f-4582-fb9d-2f0e2416204f"
      },
      "source": [
        "plt.figure(figsize=(12, 7))\n",
        "\n",
        "### Plot the dataset\n",
        "plt.plot(x, y, '.')\n",
        "\n",
        "### Plot the ground truth + predicted linear regressor\n",
        "plt.plot(x_range, x_range * gt_w + gt_b, linewidth=4, label='Ground Truth')\n",
        "plt.plot(x_range, x_range * pred_w.item() + pred_b.item(), linewidth=4, label='Prediction')\n",
        "\n",
        "### Title and extras\n",
        "plt.title('Linear Dataset', fontsize=20)\n",
        "plt.xlabel('X', fontsize=20)\n",
        "plt.ylabel('Y', fontsize=20)\n",
        "plt.legend()\n",
        "plt.show()"
      ],
      "execution_count": 108,
      "outputs": [
        {
          "output_type": "display_data",
          "data": {
            "image/png": "[encoded data removed]",
            "text/plain": [
              "<Figure size 864x504 with 1 Axes>"
            ]
          },
          "metadata": {
            "needs_background": "light"
          }
        }
      ]
    },
    {
      "cell_type": "code",
      "metadata": {
        "id": "sp7-Fz1hDsxb"
      },
      "source": [
        ""
      ],
      "execution_count": null,
      "outputs": []
    }
  ]
}